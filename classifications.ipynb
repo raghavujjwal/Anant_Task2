{
 "cells": [
  {
   "cell_type": "code",
   "execution_count": 16,
   "metadata": {},
   "outputs": [],
   "source": [
    "import torch\n",
    "import torchvision.transforms as transforms\n",
    "from torchvision import datasets\n",
    "from torch.utils.data import DataLoader\n",
    "import torch.nn as nn\n",
    "import torch.optim as optim\n",
    "from sklearn.metrics import accuracy_score\n",
    "import PIL.Image as Image\n",
    "import numpy as np\n",
    "import os\n",
    "import random\n"
   ]
  },
  {
   "cell_type": "code",
   "execution_count": null,
   "metadata": {},
   "outputs": [
    {
     "name": "stdout",
     "output_type": "stream",
     "text": [
      "Classes: ['Alluvial soil', 'Black Soil', 'Clay soil', 'Red soil']\n"
     ]
    }
   ],
   "source": [
    "transform = transforms.Compose([\n",
    "    transforms.Resize((128, 128)),  \n",
    "    transforms.ToTensor(),  \n",
    "    transforms.Normalize(mean=[0.5, 0.5, 0.5], std=[0.5, 0.5, 0.5])  \n",
    "])\n",
    "\n",
    "\n",
    "train_data = datasets.ImageFolder(root=r\"C:\\Users\\ujjwal\\.cache\\kagglehub\\datasets\\jhislainematchouath\\soil-types-dataset\\versions\\1\\Dataset\\Train\", transform=transform)\n",
    "test_data = datasets.ImageFolder(root=r\"C:\\Users\\ujjwal\\.cache\\kagglehub\\datasets\\jhislainematchouath\\soil-types-dataset\\versions\\1\\Dataset\\test\", transform=transform)\n",
    "\n",
    "\n",
    "batch_size = 32\n",
    "train_loader = DataLoader(train_data, batch_size=batch_size, shuffle=True)\n",
    "test_loader = DataLoader(test_data, batch_size=batch_size, shuffle=False)\n",
    "\n",
    "\n",
    "class_names = train_data.classes\n",
    "print(\"Classes:\", class_names)\n"
   ]
  },
  {
   "cell_type": "code",
   "execution_count": null,
   "metadata": {},
   "outputs": [],
   "source": [
    "class SoilCNN(nn.Module):\n",
    "    def __init__(self, num_classes=4):  \n",
    "        super(SoilCNN, self).__init__()\n",
    "\n",
    "       \n",
    "        self.conv1 = nn.Conv2d(3, 32, kernel_size=3, stride=1, padding=1)\n",
    "        self.conv2 = nn.Conv2d(32, 64, kernel_size=3, stride=1, padding=1)\n",
    "        self.conv3 = nn.Conv2d(64, 128, kernel_size=3, stride=1, padding=1)\n",
    "\n",
    "        \n",
    "        self.pool = nn.MaxPool2d(kernel_size=2, stride=2, padding=0)\n",
    "\n",
    "        \n",
    "        self.fc1 = nn.Linear(128 * 16 * 16, 128)  \n",
    "        self.fc2 = nn.Linear(128, num_classes)\n",
    "\n",
    "        \n",
    "        self.dropout = nn.Dropout(0.5)\n",
    "        self.relu = nn.ReLU()\n",
    "\n",
    "    def forward(self, x):\n",
    "        x = self.pool(self.relu(self.conv1(x)))  \n",
    "        x = self.pool(self.relu(self.conv2(x)))  \n",
    "        x = self.pool(self.relu(self.conv3(x)))  \n",
    "\n",
    "        \n",
    "        x = x.view(x.size(0), -1)\n",
    "\n",
    "        x = self.relu(self.fc1(x))  \n",
    "        x = self.dropout(x)  \n",
    "        x = self.fc2(x)  \n",
    "\n",
    "        return x\n",
    "\n",
    "\n",
    "device = torch.device(\"cpu\")  \n",
    "model = SoilCNN(num_classes=4).to(device)\n"
   ]
  },
  {
   "cell_type": "code",
   "execution_count": null,
   "metadata": {},
   "outputs": [
    {
     "name": "stdout",
     "output_type": "stream",
     "text": [
      "Epoch [1/10], Loss: 0.7236\n",
      "Epoch [2/10], Loss: 0.4429\n",
      "Epoch [3/10], Loss: 0.3426\n",
      "Epoch [4/10], Loss: 0.2919\n",
      "Epoch [5/10], Loss: 0.2164\n",
      "Epoch [6/10], Loss: 0.1823\n",
      "Epoch [7/10], Loss: 0.1474\n",
      "Epoch [8/10], Loss: 0.1303\n",
      "Epoch [9/10], Loss: 0.1481\n",
      "Epoch [10/10], Loss: 0.1224\n",
      "Training Finished!\n"
     ]
    }
   ],
   "source": [
    "criterion = nn.CrossEntropyLoss()\n",
    "optimizer = optim.Adam(model.parameters(), lr=0.001)\n",
    "num_epochs = 10\n",
    "\n",
    "for epoch in range(num_epochs):\n",
    "    model.train()\n",
    "    running_loss = 0.0\n",
    "\n",
    "    for images, labels in train_loader:\n",
    "        images, labels = images.to(device), labels.to(device)\n",
    "\n",
    "        \n",
    "        outputs = model(images)\n",
    "        loss = criterion(outputs, labels)\n",
    "\n",
    "        optimizer.zero_grad()\n",
    "        loss.backward()\n",
    "        optimizer.step()\n",
    "\n",
    "        running_loss += loss.item()\n",
    "\n",
    "    print(f\"Epoch [{epoch+1}/{num_epochs}], Loss: {running_loss/len(train_loader):.4f}\")\n",
    "\n",
    "print(\"Training Finished!\")"
   ]
  },
  {
   "cell_type": "code",
   "execution_count": 10,
   "metadata": {},
   "outputs": [
    {
     "name": "stdout",
     "output_type": "stream",
     "text": [
      "Test Accuracy: 94.41%\n"
     ]
    }
   ],
   "source": [
    "model.eval()\n",
    "all_preds = []\n",
    "all_labels = []\n",
    "\n",
    "with torch.no_grad():\n",
    "    for images, labels in test_loader:\n",
    "        images, labels = images.to(device), labels.to(device)\n",
    "        outputs = model(images)\n",
    "        _, preds = torch.max(outputs, 1)\n",
    "        \n",
    "        all_preds.extend(preds.cpu().numpy())\n",
    "        all_labels.extend(labels.cpu().numpy())\n",
    "accuracy = accuracy_score(all_labels, all_preds)\n",
    "print(f\"Test Accuracy: {accuracy * 100:.2f}%\")"
   ]
  },
  {
   "cell_type": "code",
   "execution_count": null,
   "metadata": {},
   "outputs": [
    {
     "name": "stdout",
     "output_type": "stream",
     "text": [
      "image16 (2).jpeg -> Predicted Soil Type: Clay Soil\n"
     ]
    }
   ],
   "source": [
    "class_labels = [\"alluvial\", \"black\", \"clay\", \"red\"]\n",
    "\n",
    "\n",
    "def get_random_image(folder):\n",
    "   \n",
    "    if not os.path.exists(folder):\n",
    "        print(f\"Error: Folder '{folder}' does not exist.\")\n",
    "        return None\n",
    "    \n",
    "    \n",
    "    subfolders = [f for f in os.listdir(folder) if os.path.isdir(os.path.join(folder, f))]\n",
    "    if not subfolders:\n",
    "        print(\"No subfolders found in dataset!\")\n",
    "        return None\n",
    "    \n",
    "    \n",
    "    random_class = random.choice(subfolders)\n",
    "    class_path = os.path.join(folder, random_class)\n",
    "    \n",
    "    \n",
    "    images = [f for f in os.listdir(class_path) if f.endswith(('.jpg', '.jpeg', '.png'))]\n",
    "    if not images:\n",
    "        print(f\"No images found in '{class_path}'\")\n",
    "        return None\n",
    "    \n",
    "   \n",
    "    random_image = random.choice(images)\n",
    "    return os.path.join(class_path, random_image)\n",
    "\n",
    "\n",
    "def predict_image(image_path, model):\n",
    "    \"\"\" Predicts the soil type of a given image and prints its filename. \"\"\"\n",
    "    \n",
    "    transform = transforms.Compose([\n",
    "        transforms.Resize((128, 128)),\n",
    "        transforms.ToTensor(),\n",
    "        transforms.Normalize(mean=[0.5, 0.5, 0.5], std=[0.5, 0.5, 0.5])\n",
    "    ])\n",
    "\n",
    "    \n",
    "    image = Image.open(image_path).convert(\"RGB\")\n",
    "    image = transform(image).unsqueeze(0).to(device)\n",
    "\n",
    "    \n",
    "    image_name = os.path.basename(image_path)\n",
    "\n",
    "    \n",
    "    model.eval()\n",
    "    with torch.no_grad():\n",
    "        output = model(image)\n",
    "        predicted_class = torch.argmax(output, dim=1).item() \n",
    "        predicted_label = class_labels[predicted_class] \n",
    "\n",
    "    print(f\"{image_name} -> Predicted Soil Type: {predicted_label.capitalize()} Soil\")\n",
    "\n",
    "\n",
    "test_folder = r\"C:\\Users\\ujjwal\\.cache\\kagglehub\\datasets\\jhislainematchouath\\soil-types-dataset\\versions\\1\\Dataset\\test\"\n",
    "\n",
    "\n",
    "image_path = get_random_image(test_folder)\n",
    "\n",
    "if image_path:\n",
    "    predict_image(image_path, model)"
   ]
  },
  {
   "cell_type": "code",
   "execution_count": null,
   "metadata": {},
   "outputs": [
    {
     "data": {
      "text/plain": [
       "SoilCNN(\n",
       "  (conv1): Conv2d(3, 32, kernel_size=(3, 3), stride=(1, 1), padding=(1, 1))\n",
       "  (conv2): Conv2d(32, 64, kernel_size=(3, 3), stride=(1, 1), padding=(1, 1))\n",
       "  (conv3): Conv2d(64, 128, kernel_size=(3, 3), stride=(1, 1), padding=(1, 1))\n",
       "  (pool): MaxPool2d(kernel_size=2, stride=2, padding=0, dilation=1, ceil_mode=False)\n",
       "  (fc1): Linear(in_features=32768, out_features=128, bias=True)\n",
       "  (fc2): Linear(in_features=128, out_features=4, bias=True)\n",
       "  (dropout): Dropout(p=0.5, inplace=False)\n",
       "  (relu): ReLU()\n",
       ")"
      ]
     },
     "execution_count": 24,
     "metadata": {},
     "output_type": "execute_result"
    }
   ],
   "source": [
    "torch.save(model.state_dict(), \"soil_classification_model.pth\")\n",
    "\n",
    "\n",
    "loaded_model = SoilCNN(num_classes=4)\n",
    "loaded_model.load_state_dict(torch.load(\"soil_classification_model.pth\", map_location=torch.device('cpu')))\n",
    "loaded_model.to(device)"
   ]
  }
 ],
 "metadata": {
  "kernelspec": {
   "display_name": "corrections",
   "language": "python",
   "name": "python3"
  },
  "language_info": {
   "codemirror_mode": {
    "name": "ipython",
    "version": 3
   },
   "file_extension": ".py",
   "mimetype": "text/x-python",
   "name": "python",
   "nbconvert_exporter": "python",
   "pygments_lexer": "ipython3",
   "version": "3.12.5"
  }
 },
 "nbformat": 4,
 "nbformat_minor": 2
}
